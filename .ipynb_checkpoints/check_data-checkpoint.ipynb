{
 "cells": [
  {
   "cell_type": "code",
   "execution_count": 27,
   "metadata": {
    "collapsed": true
   },
   "outputs": [],
   "source": [
    "import glob\n",
    "import csv\n",
    "import string\n",
    "from collections import defaultdict\n"
   ]
  },
  {
   "cell_type": "code",
   "execution_count": 69,
   "metadata": {
    "collapsed": true
   },
   "outputs": [],
   "source": [
    "def clean_line(line):\n",
    "    \n",
    "    def _is_not_punct(char):\n",
    "        return char not in '\"#$%&\\'();*+-./<=>?@[\\\\]^_`{|}~' + '\\n\\t\\r'\n",
    "    \"\"\"\n",
    "    Preprocesses text for training through string methods.\n",
    "    \"\"\"\n",
    "    line = line.strip()\n",
    "    line = line.lower()\n",
    "    line = line.replace('mr.', 'mr').replace('mrs.', 'mrs').replace('ms.', 'ms').replace('etc.', 'etc')\n",
    "    line = ''.join(filter(_is_not_punct, line))\n",
    "    line = line.replace(',', ' ,')\n",
    "    line = line.replace(':', ' :')\n",
    "    line = line.replace(';', ' ;')\n",
    "    line = line.replace('!', ' !')\n",
    "    line = line.split()\n",
    "    line.insert(0, '^')\n",
    "    line.append('.')\n",
    "    return line"
   ]
  },
  {
   "cell_type": "code",
   "execution_count": 70,
   "metadata": {
    "collapsed": true
   },
   "outputs": [],
   "source": [
    "def open_lyrics(artist):\n",
    "    csv_file = 'data/' + artist +'.csv'\n",
    "    try:\n",
    "        return csv.reader(open(csv_file, mode='r'))\n",
    "    except:\n",
    "        print ('{:s} lyrics file does not exist'.format(artist) )\n",
    "        return None\n",
    "    "
   ]
  },
  {
   "cell_type": "code",
   "execution_count": 82,
   "metadata": {
    "collapsed": false
   },
   "outputs": [],
   "source": [
    "def map_lyrics(artist):\n",
    "    word2idx = {'^': 0, '.': 1}\n",
    "    word_count = defaultdict(int)\n",
    "    current_idx = 2\n",
    "    sentences = []    \n",
    "    \n",
    "    reader = open_lyrics(artist)\n",
    "    \n",
    "    for song in reader:\n",
    "        for line in song[1].split('\\n'):\n",
    "            tokens = clean_line(line)\n",
    "            sentence = []\n",
    "            for t in tokens:\n",
    "                word_count[t] += 1\n",
    "                if t not in word2idx:\n",
    "                    word2idx[t] = current_idx\n",
    "                    current_idx += 1\n",
    "                idx = word2idx[t]\n",
    "                sentence.append(idx)\n",
    "            sentences.append(sentence)\n",
    "    return sentences, word2idx, word_count"
   ]
  },
  {
   "cell_type": "code",
   "execution_count": 85,
   "metadata": {
    "collapsed": false
   },
   "outputs": [],
   "source": [
    "s, m, c = map_lyrics('foo_fighters')"
   ]
  },
  {
   "cell_type": "code",
   "execution_count": 86,
   "metadata": {
    "collapsed": false
   },
   "outputs": [
    {
     "data": {
      "text/plain": [
       "[('.', 6792),\n",
       " ('^', 6792),\n",
       " ('you', 1220),\n",
       " ('the', 1194),\n",
       " ('i', 1168),\n",
       " (',', 1157),\n",
       " ('and', 767),\n",
       " ('to', 715),\n",
       " ('me', 564),\n",
       " ('it', 434)]"
      ]
     },
     "execution_count": 86,
     "metadata": {},
     "output_type": "execute_result"
    }
   ],
   "source": [
    "[(k, c[k]) for k in sorted(c, key=c.get, reverse=True)[0:10]]"
   ]
  },
  {
   "cell_type": "code",
   "execution_count": null,
   "metadata": {
    "collapsed": true
   },
   "outputs": [],
   "source": []
  }
 ],
 "metadata": {
  "kernelspec": {
   "display_name": "Python 3",
   "language": "python",
   "name": "python3"
  },
  "language_info": {
   "codemirror_mode": {
    "name": "ipython",
    "version": 3
   },
   "file_extension": ".py",
   "mimetype": "text/x-python",
   "name": "python",
   "nbconvert_exporter": "python",
   "pygments_lexer": "ipython3",
   "version": "3.5.2"
  }
 },
 "nbformat": 4,
 "nbformat_minor": 2
}
