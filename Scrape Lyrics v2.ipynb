{
 "cells": [
  {
   "cell_type": "code",
   "execution_count": 3,
   "metadata": {
    "collapsed": true
   },
   "outputs": [],
   "source": [
    "import pandas as pd\n",
    "import csv\n",
    "from bs4 import BeautifulSoup\n",
    "from selenium import webdriver"
   ]
  },
  {
   "cell_type": "code",
   "execution_count": 4,
   "metadata": {
    "collapsed": true
   },
   "outputs": [],
   "source": [
    "artists = { \n",
    "    \n",
    "    'led_zeppelin'        : 'http://www.lyrics.com/artist/Led%20Zeppelin/4739'\n",
    "#     'arctic_monkeys'      : 'http://www.lyrics.com/artist/Arctic%20Monkeys/744567',\n",
    "#     'counting_crows'      : 'http://www.lyrics.com/artist/Counting%20Crows/43290',\n",
    "#     'casting_crowns'      : 'http://www.lyrics.com/artist/Casting%20Crowns/587461',\n",
    "#     'radiohead'           : 'http://www.lyrics.com/artist/Radiohead/41092',\n",
    "#     'adele'               : 'http://www.lyrics.com/artist/Adele/861756',\n",
    "#     'smashing_pumpkins'   : 'http://www.lyrics.com/artist/Smashing%20Pumpkins/5462',\n",
    "#     'ed_sheeren'          : 'http://www.lyrics.com/artist/Ed%20Sheeran/2342870',\n",
    "#     'beatles'             : 'http://www.lyrics.com/artist/The%20Beatles/3644',\n",
    "#     'taylor_swift'        : 'http://www.lyrics.com/artist/Taylor%20Swift/816977',\n",
    "#     'blink182'            : 'http://www.lyrics.com/artist/blink-182/211247',\n",
    "#     'foo_fighters'        : 'http://www.lyrics.com/artist/Foo%20Fighters/144725',\n",
    "#     'pearl_jam'           : 'http://www.lyrics.com/artist/Pearl%20Jam/5118',\n",
    "#     'eminem'              : 'http://www.lyrics.com/artist/Eminem/347307'\n",
    "      }"
   ]
  },
  {
   "cell_type": "code",
   "execution_count": 5,
   "metadata": {
    "collapsed": true
   },
   "outputs": [],
   "source": [
    "def find_lyrics(song_url, browser):\n",
    "    browser.get(song_url)\n",
    "    lyric = BeautifulSoup(chrome.find_element_by_id('lyric-body-text').get_attribute('innerHTML'), 'html.parser')\n",
    "    return lyric.text    "
   ]
  },
  {
   "cell_type": "code",
   "execution_count": 6,
   "metadata": {},
   "outputs": [],
   "source": [
    "chrome = webdriver.Chrome()\n",
    "\n",
    "for artist, url in artists.items():    \n",
    "    file_csv = 'lyrics/'+ artist + '.csv'\n",
    "    try:    \n",
    "        reader = csv.reader(open(file_csv, mode='r'))\n",
    "        lyrics = {rows[0]:rows[1] for rows in reader}\n",
    "    except: \n",
    "        lyrics = {}\n",
    "        \n",
    "    chrome.get(url)\n",
    "    soup = BeautifulSoup(chrome.page_source, 'html.parser')\n",
    "    for album in soup.find_all('table',{'class':'tdata'}):\n",
    "        for song in album.find_all('a', href=True):\n",
    "            if song.text not in lyrics:\n",
    "                print (song.text)\n",
    "                song_url = 'http://www.lyrics.com/' + song['href']\n",
    "                try:\n",
    "                    lyrics[song.text] = find_lyrics(song_url, chrome)\n",
    "                except:\n",
    "                    pass     \n",
    "                \n",
    "    save_lyrics = pd.DataFrame([[k, v] for k, v in lyrics.items()], columns=['Song', 'Lyrics'])\n",
    "    save_lyrics.set_index('Song', inplace=True)\n",
    "    save_lyrics.to_csv(file_csv)\n",
    "\n",
    "chrome.quit()"
   ]
  },
  {
   "cell_type": "code",
   "execution_count": null,
   "metadata": {
    "collapsed": true
   },
   "outputs": [],
   "source": []
  },
  {
   "cell_type": "code",
   "execution_count": null,
   "metadata": {
    "collapsed": true
   },
   "outputs": [],
   "source": []
  }
 ],
 "metadata": {
  "kernelspec": {
   "display_name": "Python 3",
   "language": "python",
   "name": "python3"
  },
  "language_info": {
   "codemirror_mode": {
    "name": "ipython",
    "version": 3
   },
   "file_extension": ".py",
   "mimetype": "text/x-python",
   "name": "python",
   "nbconvert_exporter": "python",
   "pygments_lexer": "ipython3",
   "version": "3.5.2"
  }
 },
 "nbformat": 4,
 "nbformat_minor": 2
}
